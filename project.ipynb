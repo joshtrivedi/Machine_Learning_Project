{
 "cells": [
  {
   "attachments": {},
   "cell_type": "markdown",
   "metadata": {},
   "source": [
    "#Introduction to Machine Learning\n",
    "##Final Project by Josh Trivedi"
   ]
  },
  {
   "attachments": {},
   "cell_type": "markdown",
   "metadata": {},
   "source": [
    "## Import all the required libraries"
   ]
  },
  {
   "cell_type": "code",
   "execution_count": 1,
   "metadata": {},
   "outputs": [],
   "source": [
    "import pandas as pd\n",
    "import numpy as np\n",
    "import random\n",
    "import matplotlib.pyplot as plt \n",
    "from datetime import datetime\n",
    "from sklearn.metrics import f1_score\n",
    "from sklearn.model_selection import train_test_split, cross_val_score\n",
    "from sklearn.neighbors import KNeighborsClassifier\n",
    "from tabulate import tabulate"
   ]
  },
  {
   "attachments": {},
   "cell_type": "markdown",
   "metadata": {},
   "source": [
    "### Importing the data"
   ]
  },
  {
   "cell_type": "code",
   "execution_count": 2,
   "metadata": {},
   "outputs": [
    {
     "data": {
      "text/html": [
       "<div>\n",
       "<style scoped>\n",
       "    .dataframe tbody tr th:only-of-type {\n",
       "        vertical-align: middle;\n",
       "    }\n",
       "\n",
       "    .dataframe tbody tr th {\n",
       "        vertical-align: top;\n",
       "    }\n",
       "\n",
       "    .dataframe thead th {\n",
       "        text-align: right;\n",
       "    }\n",
       "</style>\n",
       "<table border=\"1\" class=\"dataframe\">\n",
       "  <thead>\n",
       "    <tr style=\"text-align: right;\">\n",
       "      <th></th>\n",
       "      <th>0</th>\n",
       "      <th>1</th>\n",
       "      <th>2</th>\n",
       "      <th>3</th>\n",
       "      <th>4</th>\n",
       "      <th>5</th>\n",
       "      <th>6</th>\n",
       "      <th>7</th>\n",
       "      <th>8</th>\n",
       "      <th>9</th>\n",
       "      <th>...</th>\n",
       "      <th>12</th>\n",
       "      <th>13</th>\n",
       "      <th>14</th>\n",
       "      <th>15</th>\n",
       "      <th>16</th>\n",
       "      <th>17</th>\n",
       "      <th>18</th>\n",
       "      <th>19</th>\n",
       "      <th>20</th>\n",
       "      <th>21</th>\n",
       "    </tr>\n",
       "  </thead>\n",
       "  <tbody>\n",
       "    <tr>\n",
       "      <th>0</th>\n",
       "      <td>-1.23</td>\n",
       "      <td>-1.56</td>\n",
       "      <td>-1.75</td>\n",
       "      <td>-0.28</td>\n",
       "      <td>0.60</td>\n",
       "      <td>2.22</td>\n",
       "      <td>0.85</td>\n",
       "      <td>0.21</td>\n",
       "      <td>-0.20</td>\n",
       "      <td>0.89</td>\n",
       "      <td>...</td>\n",
       "      <td>2.89</td>\n",
       "      <td>7.75</td>\n",
       "      <td>4.59</td>\n",
       "      <td>3.15</td>\n",
       "      <td>5.12</td>\n",
       "      <td>3.32</td>\n",
       "      <td>1.20</td>\n",
       "      <td>0.24</td>\n",
       "      <td>-0.56</td>\n",
       "      <td>2</td>\n",
       "    </tr>\n",
       "    <tr>\n",
       "      <th>1</th>\n",
       "      <td>-0.69</td>\n",
       "      <td>2.43</td>\n",
       "      <td>0.61</td>\n",
       "      <td>2.08</td>\n",
       "      <td>2.30</td>\n",
       "      <td>3.25</td>\n",
       "      <td>5.52</td>\n",
       "      <td>4.55</td>\n",
       "      <td>2.97</td>\n",
       "      <td>2.22</td>\n",
       "      <td>...</td>\n",
       "      <td>1.24</td>\n",
       "      <td>1.89</td>\n",
       "      <td>1.88</td>\n",
       "      <td>-1.34</td>\n",
       "      <td>0.83</td>\n",
       "      <td>1.41</td>\n",
       "      <td>1.78</td>\n",
       "      <td>0.60</td>\n",
       "      <td>2.42</td>\n",
       "      <td>1</td>\n",
       "    </tr>\n",
       "    <tr>\n",
       "      <th>2</th>\n",
       "      <td>-0.12</td>\n",
       "      <td>-0.94</td>\n",
       "      <td>1.29</td>\n",
       "      <td>2.59</td>\n",
       "      <td>2.42</td>\n",
       "      <td>3.55</td>\n",
       "      <td>4.94</td>\n",
       "      <td>3.25</td>\n",
       "      <td>1.90</td>\n",
       "      <td>2.07</td>\n",
       "      <td>...</td>\n",
       "      <td>2.50</td>\n",
       "      <td>0.12</td>\n",
       "      <td>1.41</td>\n",
       "      <td>2.78</td>\n",
       "      <td>0.64</td>\n",
       "      <td>0.62</td>\n",
       "      <td>-0.01</td>\n",
       "      <td>-0.79</td>\n",
       "      <td>-0.12</td>\n",
       "      <td>0</td>\n",
       "    </tr>\n",
       "    <tr>\n",
       "      <th>3</th>\n",
       "      <td>0.86</td>\n",
       "      <td>0.29</td>\n",
       "      <td>2.19</td>\n",
       "      <td>-0.02</td>\n",
       "      <td>1.13</td>\n",
       "      <td>2.51</td>\n",
       "      <td>2.37</td>\n",
       "      <td>5.45</td>\n",
       "      <td>5.45</td>\n",
       "      <td>4.84</td>\n",
       "      <td>...</td>\n",
       "      <td>2.58</td>\n",
       "      <td>1.40</td>\n",
       "      <td>1.24</td>\n",
       "      <td>1.41</td>\n",
       "      <td>1.07</td>\n",
       "      <td>-1.43</td>\n",
       "      <td>2.84</td>\n",
       "      <td>-1.18</td>\n",
       "      <td>1.12</td>\n",
       "      <td>1</td>\n",
       "    </tr>\n",
       "    <tr>\n",
       "      <th>4</th>\n",
       "      <td>1.16</td>\n",
       "      <td>0.37</td>\n",
       "      <td>0.40</td>\n",
       "      <td>-0.59</td>\n",
       "      <td>2.66</td>\n",
       "      <td>1.00</td>\n",
       "      <td>2.69</td>\n",
       "      <td>4.06</td>\n",
       "      <td>5.34</td>\n",
       "      <td>3.53</td>\n",
       "      <td>...</td>\n",
       "      <td>4.30</td>\n",
       "      <td>1.84</td>\n",
       "      <td>1.73</td>\n",
       "      <td>0.21</td>\n",
       "      <td>-0.18</td>\n",
       "      <td>0.13</td>\n",
       "      <td>-0.21</td>\n",
       "      <td>-0.80</td>\n",
       "      <td>-0.68</td>\n",
       "      <td>1</td>\n",
       "    </tr>\n",
       "  </tbody>\n",
       "</table>\n",
       "<p>5 rows × 22 columns</p>\n",
       "</div>"
      ],
      "text/plain": [
       "     0     1     2     3     4     5     6     7     8     9   ...    12  \\\n",
       "0 -1.23 -1.56 -1.75 -0.28  0.60  2.22  0.85  0.21 -0.20  0.89  ...  2.89   \n",
       "1 -0.69  2.43  0.61  2.08  2.30  3.25  5.52  4.55  2.97  2.22  ...  1.24   \n",
       "2 -0.12 -0.94  1.29  2.59  2.42  3.55  4.94  3.25  1.90  2.07  ...  2.50   \n",
       "3  0.86  0.29  2.19 -0.02  1.13  2.51  2.37  5.45  5.45  4.84  ...  2.58   \n",
       "4  1.16  0.37  0.40 -0.59  2.66  1.00  2.69  4.06  5.34  3.53  ...  4.30   \n",
       "\n",
       "     13    14    15    16    17    18    19    20  21  \n",
       "0  7.75  4.59  3.15  5.12  3.32  1.20  0.24 -0.56   2  \n",
       "1  1.89  1.88 -1.34  0.83  1.41  1.78  0.60  2.42   1  \n",
       "2  0.12  1.41  2.78  0.64  0.62 -0.01 -0.79 -0.12   0  \n",
       "3  1.40  1.24  1.41  1.07 -1.43  2.84 -1.18  1.12   1  \n",
       "4  1.84  1.73  0.21 -0.18  0.13 -0.21 -0.80 -0.68   1  \n",
       "\n",
       "[5 rows x 22 columns]"
      ]
     },
     "execution_count": 2,
     "metadata": {},
     "output_type": "execute_result"
    }
   ],
   "source": [
    "waveforms = pd.read_csv('waveform.data', header=None, sep=',')\n",
    "waveforms.head()"
   ]
  },
  {
   "cell_type": "code",
   "execution_count": 3,
   "metadata": {},
   "outputs": [],
   "source": [
    "# separate the data into features and labels\n",
    "x = waveforms.drop(columns=[21])\n",
    "y = waveforms[21]"
   ]
  },
  {
   "cell_type": "code",
   "execution_count": 4,
   "metadata": {},
   "outputs": [],
   "source": [
    "# Split the data into training and testing sets\n",
    "testdatai = waveforms.sample(1000).index\n",
    "testdatav = waveforms.loc[testdatai]\n",
    "data = waveforms.drop(index=testdatai)\n",
    "xTrain = data.drop(columns=[21])\n",
    "yTrain = data[21]\n",
    "xTest = testdatav.drop(columns=[21])\n",
    "yTest = testdatav[21]"
   ]
  },
  {
   "attachments": {},
   "cell_type": "markdown",
   "metadata": {},
   "source": [
    "## Tune in the best k of a kNN Classifier by cross-validation"
   ]
  },
  {
   "cell_type": "code",
   "execution_count": 5,
   "metadata": {},
   "outputs": [
    {
     "data": {
      "image/png": "[encoded data removed]",
      "text/plain": [
       "<Figure size 432x288 with 1 Axes>"
      ]
     },
     "metadata": {
      "needs_background": "light"
     },
     "output_type": "display_data"
    },
    {
     "name": "stdout",
     "output_type": "stream",
     "text": [
      "0.85975\n",
      "Maximum accuracy 0.85975 with k=18\n"
     ]
    },
    {
     "data": {
      "text/plain": [
       "<Figure size 432x288 with 0 Axes>"
      ]
     },
     "metadata": {},
     "output_type": "display_data"
    }
   ],
   "source": [
    "%matplotlib inline\n",
    "# range of k values to test\n",
    "kRange = range(1, 100)\n",
    "# list to store the average F1 score for each value of k\n",
    "kScores = []\n",
    "# use 10-fold cross-validation with each value of k\n",
    "for k in kRange:\n",
    "    knn = KNeighborsClassifier(n_neighbors=k, algorithm='brute')\n",
    "    scores = cross_val_score(knn, xTrain, yTrain, cv=10, scoring='accuracy')\n",
    "    kScores.append(scores.mean())\n",
    "\n",
    "# plot the value of k for KNN (x-axis) versus the cross-validated accuracy (y-axis)\n",
    "plt.plot(kRange, kScores)\n",
    "plt.xlabel('Value of K for KNN')\n",
    "plt.ylabel('Cross-Validated F1')\n",
    "plt.show()\n",
    "# examine the best F1 score\n",
    "print(max(kScores))\n",
    "# examine the corresponding optimal k value\n",
    "print(\"Maximum accuracy \"+str(max(kScores))+\" with k=\"+str(kRange[kScores.index(max(kScores))]))\n",
    "# export the graph\n",
    "plt.savefig('knn.png')\n",
    "# prepare the table\n",
    "table = pd.DataFrame({'k':kRange, 'F1':kScores})\n",
    "table.to_csv('knn.csv', index=False)"
   ]
  },
  {
   "attachments": {},
   "cell_type": "markdown",
   "metadata": {},
   "source": [
    "## Reducing the complexity\n",
    "Data Reduction Algorithms"
   ]
  },
  {
   "cell_type": "code",
   "execution_count": 8,
   "metadata": {},
   "outputs": [
    {
     "name": "stdout",
     "output_type": "stream",
     "text": [
      "Accuracy before data reduction:  0.79\n",
      "Accuracy after data reduction:  0.801\n",
      "Number of good samples:  563\n",
      "Final Accuracy:  0.747\n"
     ]
    },
    {
     "data": {
      "image/png": "[encoded data removed]",
      "text/plain": [
       "<Figure size 432x288 with 1 Axes>"
      ]
     },
     "metadata": {
      "needs_background": "light"
     },
     "output_type": "display_data"
    },
    {
     "data": {
      "text/plain": [
       "<Figure size 432x288 with 0 Axes>"
      ]
     },
     "metadata": {},
     "output_type": "display_data"
    }
   ],
   "source": [
    "# 1NN Classifier\n",
    "knn = KNeighborsClassifier(n_neighbors=1, algorithm=\"brute\")\n",
    "knn.fit(xTrain, yTrain)\n",
    "# Compute the accuracy of the model\n",
    "print('Accuracy before data reduction: ', knn.score(xTest, yTest))\n",
    "x1, x2, y1, y2 = train_test_split(xTrain, yTrain, test_size=0.5, random_state=1)\n",
    "knn_cleaning = KNeighborsClassifier(n_neighbors=1, algorithm=\"brute\")\n",
    "flag = True\n",
    "# Data Reduction by dropping the misclassified samples\n",
    "while flag:\n",
    "    x1.reset_index(drop=True, inplace=True)\n",
    "    x2.reset_index(drop=True, inplace=True)\n",
    "    y1.reset_index(drop=True, inplace=True)\n",
    "    y2.reset_index(drop=True, inplace=True)\n",
    "    initial = len(y1) + len(y2)\n",
    "\n",
    "    knn_cleaning.fit(x2, y2)\n",
    "    prediction = knn_cleaning.predict(x1)\n",
    "    dropList = []\n",
    "    for i in range(len(prediction)):\n",
    "        if prediction[i] != y1[i]:\n",
    "            dropList.append(i)\n",
    "    x1.drop(index=dropList, inplace=True)\n",
    "    y1.drop(index=dropList, inplace=True)\n",
    "\n",
    "    \n",
    "    knn_cleaning.fit(x1, y1)\n",
    "    prediction = knn_cleaning.predict(x2)\n",
    "    dropList = []\n",
    "    for i in range(len(prediction)):\n",
    "        if prediction[i] != y2[i]:\n",
    "            dropList.append(i)\n",
    "    x2.drop(index=dropList, inplace=True)\n",
    "    y2.drop(index=dropList, inplace=True)\n",
    "\n",
    "    if len(y1) + len(y2) == initial:\n",
    "        flag = False\n",
    "\n",
    "newX = pd.concat([x1, x2], ignore_index=True, axis=0)\n",
    "newY = pd.concat([y1, y2], ignore_index=True, axis=0)\n",
    "knn = KNeighborsClassifier(n_neighbors=1, algorithm=\"brute\")\n",
    "knn.fit(newX, newY)\n",
    "print('Accuracy after data reduction: ', knn.score(xTest, yTest))\n",
    "# Checking number of good samples\n",
    "flag = True\n",
    "goodOnes = []\n",
    "goodOnes.append(random.randint(0,len(newY)))\n",
    "while flag:\n",
    "    flag = False\n",
    "    for i in newX.index:\n",
    "        if i in goodOnes:\n",
    "            goodOnes.remove(i)\n",
    "            knn_cleaning.fit(newX.loc[goodOnes], newY.loc[goodOnes])\n",
    "            goodOnes.append(i)\n",
    "        else:\n",
    "            knn_cleaning.fit(newX.loc[goodOnes], newY.loc[goodOnes])\n",
    "        if knn_cleaning.predict([newX.loc[i]])[0] != newY.loc[i]:\n",
    "            if i not in goodOnes:\n",
    "                goodOnes.append(i)\n",
    "                flag = True\n",
    "        else:\n",
    "            if i in goodOnes:\n",
    "                goodOnes.remove(i)\n",
    "                flag = True\n",
    "        \n",
    "\n",
    "print('Number of good samples: ', len(goodOnes))\n",
    "knn = KNeighborsClassifier(n_neighbors=1, algorithm=\"brute\")\n",
    "knn.fit(newX.loc[goodOnes], newY.loc[goodOnes])\n",
    "print('Final Accuracy: ', knn.score(xTest, yTest))\n",
    "\n",
    "#plot the new graph\n",
    "kRange = range(1, 100)\n",
    "# list to store the average F1 score for each value of k\n",
    "kScores = []\n",
    "# use 10-fold cross-validation with each value of k\n",
    "for k in kRange:\n",
    "    knn = KNeighborsClassifier(n_neighbors=k, algorithm='brute')\n",
    "    scores = cross_val_score(knn, newX.loc[goodOnes], newY.loc[goodOnes], cv=10, scoring='accuracy')\n",
    "    kScores.append(scores.mean())\n",
    "\n",
    "\n",
    "# plot the value of k for KNN (x-axis) versus the cross-validated accuracy (y-axis)\n",
    "plt.plot(kRange, kScores)\n",
    "plt.xlabel('Value of K for KNN')\n",
    "plt.ylabel('Cross-Validated F1')\n",
    "plt.show()\n",
    "# export the graph\n",
    "plt.savefig('knn2.png')\n",
    "\n",
    "# prepare the table\n",
    "table = pd.DataFrame({'k':kRange, 'F1':kScores})\n",
    "table.to_csv('knn2.csv', index=False)"
   ]
  },
  {
   "attachments": {},
   "cell_type": "markdown",
   "metadata": {},
   "source": [
    "## Speeding up the Calculation "
   ]
  },
  {
   "cell_type": "code",
   "execution_count": 7,
   "metadata": {},
   "outputs": [
    {
     "name": "stdout",
     "output_type": "stream",
     "text": [
      "KD Tree Training time:  0.031598\n",
      "KD Tree Testing time:  0.278134\n",
      "Ball Tree Training time:  0.012976\n",
      "Ball Tree Testing time:  0.194683\n",
      "Brute Force Training time:  0.003987\n",
      "Brute Force Testing time:  0.119298\n"
     ]
    },
    {
     "data": {
      "image/png": "[encoded data removed]",
      "text/plain": [
       "<Figure size 720x360 with 1 Axes>"
      ]
     },
     "metadata": {
      "needs_background": "light"
     },
     "output_type": "display_data"
    },
    {
     "ename": "AttributeError",
     "evalue": "'str' object has no attribute 'to_csv'",
     "output_type": "error",
     "traceback": [
      "\u001b[1;31m---------------------------------------------------------------------------\u001b[0m",
      "\u001b[1;31mAttributeError\u001b[0m                            Traceback (most recent call last)",
      "\u001b[1;32mc:\\Users\\josht\\Desktop\\MLDM\\M1\\Intro to ML\\Project\\project.ipynb Cell 13\u001b[0m in \u001b[0;36m<module>\u001b[1;34m\u001b[0m\n\u001b[0;32m     <a href='vscode-notebook-cell:/c%3A/Users/josht/Desktop/MLDM/M1/Intro%20to%20ML/Project/project.ipynb#X15sZmlsZQ%3D%3D?line=54'>55</a>\u001b[0m \u001b[39m# Export the table\u001b[39;00m\n\u001b[0;32m     <a href='vscode-notebook-cell:/c%3A/Users/josht/Desktop/MLDM/M1/Intro%20to%20ML/Project/project.ipynb#X15sZmlsZQ%3D%3D?line=55'>56</a>\u001b[0m table \u001b[39m=\u001b[39m (tabulate([[\u001b[39m'\u001b[39m\u001b[39mKD Tree\u001b[39m\u001b[39m'\u001b[39m, kd_training_time, kd_testing_time], [\u001b[39m'\u001b[39m\u001b[39mBall Tree\u001b[39m\u001b[39m'\u001b[39m, bt_training_time, bt_testing_time], [\u001b[39m'\u001b[39m\u001b[39mBrute Force\u001b[39m\u001b[39m'\u001b[39m, bf_training_time, bf_testing_time]], headers\u001b[39m=\u001b[39m[\u001b[39m'\u001b[39m\u001b[39mAlgorithm\u001b[39m\u001b[39m'\u001b[39m, \u001b[39m'\u001b[39m\u001b[39mTraining Time (s)\u001b[39m\u001b[39m'\u001b[39m, \u001b[39m'\u001b[39m\u001b[39mTesting Time (s)\u001b[39m\u001b[39m'\u001b[39m]))\n\u001b[1;32m---> <a href='vscode-notebook-cell:/c%3A/Users/josht/Desktop/MLDM/M1/Intro%20to%20ML/Project/project.ipynb#X15sZmlsZQ%3D%3D?line=56'>57</a>\u001b[0m table\u001b[39m.\u001b[39;49mto_csv(\u001b[39m'\u001b[39m\u001b[39mthree.csv\u001b[39m\u001b[39m'\u001b[39m, index\u001b[39m=\u001b[39m\u001b[39mFalse\u001b[39;00m)\n",
      "\u001b[1;31mAttributeError\u001b[0m: 'str' object has no attribute 'to_csv'"
     ]
    }
   ],
   "source": [
    "#Speeding up the calculation of the 1NN classifier\n",
    "# by using the KDTree algorithm\n",
    "knn = KNeighborsClassifier(n_neighbors=1, algorithm=\"kd_tree\")\n",
    "start = datetime.now()\n",
    "knn.fit(xTrain, yTrain)\n",
    "end = datetime.now()\n",
    "kd_training_time = (end-start).total_seconds()\n",
    "print('KD Tree Training time: ', (end-start).total_seconds())\n",
    "\n",
    "start = datetime.now()\n",
    "knn.score(xTest, yTest)\n",
    "end = datetime.now()\n",
    "kd_testing_time = (end-start).total_seconds()\n",
    "print('KD Tree Testing time: ', (end-start).total_seconds())\n",
    "\n",
    "#by using the BallTree algorithm\n",
    "knn = KNeighborsClassifier(n_neighbors=1, algorithm=\"ball_tree\")\n",
    "start = datetime.now()\n",
    "knn.fit(xTrain, yTrain)\n",
    "end = datetime.now()\n",
    "bt_training_time = (end-start).total_seconds()\n",
    "print('Ball Tree Training time: ', (end-start).total_seconds())\n",
    "\n",
    "start = datetime.now()\n",
    "knn.score(xTest, yTest)\n",
    "end = datetime.now()\n",
    "bt_testing_time = (end-start).total_seconds()\n",
    "print('Ball Tree Testing time: ', (end-start).total_seconds())\n",
    "\n",
    "#by using the brute force algorithm\n",
    "knn = KNeighborsClassifier(n_neighbors=1, algorithm=\"brute\")\n",
    "start = datetime.now()\n",
    "knn.fit(xTrain, yTrain)\n",
    "end = datetime.now()\n",
    "bf_training_time = (end-start).total_seconds()\n",
    "print('Brute Force Training time: ', (end-start).total_seconds())\n",
    "\n",
    "start = datetime.now()\n",
    "knn.score(xTest, yTest)\n",
    "end = datetime.now()\n",
    "bf_testing_time = (end-start).total_seconds()\n",
    "print('Brute Force Testing time: ', (end-start).total_seconds())\n",
    "\n",
    "\n",
    "# Plot the results\n",
    "plt.figure(figsize=(10, 5))\n",
    "plt.plot(['KD Tree', 'Ball Tree', 'Brute Force'], [kd_training_time, bt_training_time, bf_training_time], label='Training Time')\n",
    "plt.plot(['KD Tree', 'Ball Tree', 'Brute Force'], [kd_testing_time, bt_testing_time, bf_testing_time], label='Testing Time')\n",
    "plt.legend()\n",
    "plt.title('Training and Testing Time')\n",
    "plt.xlabel('1NN Classifier Algorithm')\n",
    "plt.ylabel('Time (s)')\n",
    "plt.show()\n",
    "\n",
    "# Export the table\n",
    "table = (tabulate([['KD Tree', kd_training_time, kd_testing_time], ['Ball Tree', bt_training_time, bt_testing_time], ['Brute Force', bf_training_time, bf_testing_time]], headers=['Algorithm', 'Training Time (s)', 'Testing Time (s)']))\n",
    "table.to_csv('three.csv', index=False)\n"
   ]
  },
  {
   "attachments": {},
   "cell_type": "markdown",
   "metadata": {},
   "source": [
    "## Generating Artificial Imbalance "
   ]
  },
  {
   "cell_type": "code",
   "execution_count": null,
   "metadata": {},
   "outputs": [
    {
     "data": {
      "image/png": "[encoded data removed]",
      "text/plain": [
       "<Figure size 720x360 with 1 Axes>"
      ]
     },
     "metadata": {
      "needs_background": "light"
     },
     "output_type": "display_data"
    }
   ],
   "source": [
    "totalDataCount = data[data[21]==0].shape[0]\n",
    "classIndexes = data[data[21]==0].sample(int(totalDataCount*0.8)).index\n",
    "unbalanceData = data.drop(index=classIndexes)\n",
    "\n",
    "xTrain = unbalanceData.drop(columns=[21])\n",
    "yTrain = unbalanceData[21]\n",
    "\n",
    "kRange = range(1, 100)\n",
    "f1Scores = []\n",
    "kScores = []\n",
    "# use iteration to caclulator different k in models, then return the average accuracy and f1 score\n",
    "for k in kRange:\n",
    "    knn = KNeighborsClassifier(n_neighbors=k, algorithm=\"brute\")\n",
    "    knn.fit(xTrain, yTrain)\n",
    "    yPredict = knn.predict(xTest)\n",
    "    f1Scores.append(f1_score(yTest, yPredict, average='weighted'))\n",
    "    kScores.append(knn.score(xTest, yTest))\n",
    "\n",
    "# Plot the results\n",
    "plt.figure(figsize=(10, 5))\n",
    "plt.plot(kRange, f1Scores, label='F1 Score')\n",
    "plt.plot(kRange, kScores, label='Accuracy')\n",
    "plt.legend()\n",
    "plt.title('F1 Score and Accuracy')\n",
    "plt.xlabel('K')\n",
    "plt.ylabel('Score')\n",
    "plt.show()\n",
    "\n",
    "#export the data as a table\n",
    "table = pd.DataFrame({'K': kRange, 'F1 Score': f1Scores, 'Accuracy': kScores})\n",
    "print(table.to_string(index=False))\n",
    "table.to_csv('four.csv', index=False)\n"
   ]
  }
 ],
 "metadata": {
  "kernelspec": {
   "display_name": "Python 3",
   "language": "python",
   "name": "python3"
  },
  "language_info": {
   "codemirror_mode": {
    "name": "ipython",
    "version": 3
   },
   "file_extension": ".py",
   "mimetype": "text/x-python",
   "name": "python",
   "nbconvert_exporter": "python",
   "pygments_lexer": "ipython3",
   "version": "3.9.13"
  },
  "orig_nbformat": 4,
  "vscode": {
   "interpreter": {
    "hash": "3a4930e0c33e4286e0ddf73d362b5796427ebb0f81034770d2fe2557f633f784"
   }
  }
 },
 "nbformat": 4,
 "nbformat_minor": 2
}
